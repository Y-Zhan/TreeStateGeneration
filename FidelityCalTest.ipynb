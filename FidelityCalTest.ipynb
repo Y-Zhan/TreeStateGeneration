{
 "cells": [
  {
   "cell_type": "code",
   "execution_count": 115,
   "metadata": {},
   "outputs": [
    {
     "name": "stdout",
     "output_type": "stream",
     "text": [
      "The autoreload extension is already loaded. To reload it, use:\n",
      "  %reload_ext autoreload\n"
     ]
    }
   ],
   "source": [
    "%load_ext autoreload\n",
    "%autoreload 2\n",
    "\n",
    "import numpy as np\n",
    "import scipy.linalg\n",
    "import matplotlib\n",
    "matplotlib.rcParams[\"xtick.labelsize\"] = 18\n",
    "matplotlib.rcParams[\"ytick.labelsize\"] = 18\n",
    "# matplotlib.rcParams[\"image.cmap\"] = \"Purples\"\n",
    "matplotlib.rcParams[\"image.cmap\"] = \"inferno\"\n",
    "matplotlib.rcParams[\"axes.titlesize\"] = 18\n",
    "matplotlib.rcParams[\"axes.labelsize\"] = 18\n",
    "import matplotlib.pyplot as plt\n",
    "import qutip\n",
    "\n",
    "import pulse\n",
    "import pulseDyn\n",
    "import pulseQuTip\n",
    "import treeState"
   ]
  },
  {
   "cell_type": "code",
   "execution_count": 46,
   "metadata": {},
   "outputs": [
    {
     "name": "stdout",
     "output_type": "stream",
     "text": [
      "[[0.+0.j 0.+0.j]\n",
      " [0.+0.j 0.+0.j]]\n",
      "[[ 1.+0.j  0.+0.j]\n",
      " [ 0.+0.j 25.+1.j]]\n"
     ]
    }
   ],
   "source": [
    "# define rotation matrices\n",
    "rho_i = np.array([[1/2, 1/2, 0, 0], [1/2, 1/2, 0, 0], [0, 0, 0, 0], [0, 0, 0, 0]]) # initial density matrix\n",
    "R_pi_01 = np.array([[0, -1.0j, 0], [-1.0j, 0, 0], [0, 0, 1]]) # green Pi-pulse\n",
    "R_pi_12 = np.array([[1, 0, 0, 0], [0, 0, -1.0j, 0], [0, -1.0j, 0, 0], [0, 0, 0, 1]]) # red Pi-pulse\n",
    "R_3pi_12 = np.array([[1, 0, 0, 0], [0, 0, 1.0j, 0], [0, 1.0j, 0, 0], [0, 0, 0, 1]]) # red 3Pi-pulse\n",
    "R_pi_2e = np.array([[1, 0, 0, 0], [0, 1, 0, 0], [0, 0, 0, -1.0j], [0, 0, -1.0j, 0]]) # blue Pi-pulse\n",
    "Identity = np.identity(2, dtype=complex)\n",
    "\n",
    "#print(R_pi_01)\n",
    "#print(np.kron(R_pi_01, Identity))\n",
    "\n",
    "RR = np.kron(R_pi_01, Identity)\n",
    "\n",
    "# rho = np.array([[1/2, 0, 0, 1/2, 0, 0], [0, 0, 0, 0, 0, 0], [0, 0, 0, 0, 0, 0], [1/2, 0, 0, 1/2, 0, 0], [0, 0, 0, 0, 0, 0], [0, 0, 0, 0, 0, 0]])\n",
    "# print(RR @ rho @ RR.conj().T)\n",
    "\n",
    "rho = np.zeros((2, 2), dtype=complex)\n",
    "print(rho)\n",
    "rho[0][0] = 1\n",
    "rho[1][1] = 25 + 1.0j\n",
    "print(rho)\n",
    "\n",
    "\n",
    "\n",
    "\n",
    "# R_3pi_12 @ R_pi_12 @ rho_i @ R_pi_12.conj().T @ R_3pi_12.conj().T"
   ]
  },
  {
   "cell_type": "code",
   "execution_count": 45,
   "metadata": {},
   "outputs": [
    {
     "name": "stdout",
     "output_type": "stream",
     "text": [
      "[[ 1.  0.  0.  0.  0.  0.  0.  0.  0.]\n",
      " [ 0.  1.  0.  0.  0.  0.  0.  0.  0.]\n",
      " [ 0.  0. -1.  0.  0.  0.  0.  0.  0.]\n",
      " [ 0.  0.  0.  1.  0.  0.  0.  0.  0.]\n",
      " [ 0.  0.  0.  0.  1.  0.  0.  0.  0.]\n",
      " [ 0.  0.  0.  0.  0. -1.  0.  0.  0.]\n",
      " [ 0.  0.  0.  0.  0.  0.  1.  0.  0.]\n",
      " [ 0.  0.  0.  0.  0.  0.  0.  1.  0.]\n",
      " [ 0.  0.  0.  0.  0.  0.  0.  0. -1.]]\n"
     ]
    }
   ],
   "source": [
    "a = np.array([[1, 2], [3, 4]])\n",
    "b = np.array([[5, 6], [7, 8]])\n",
    "cz = np.array([[1,0,0], [0,1,0], [0,0,-1]])\n",
    "photonIndex = 2\n",
    "for ii in range(photonIndex - 1):\n",
    "    size = np.power(3, ii + 1)\n",
    "    zero = np.zeros((size,size))\n",
    "    cz = np.block([[cz, zero, zero], [zero, cz, zero], [zero, zero, cz]])\n",
    "print(cz)\n",
    "\n",
    "# print(np.block([[a, np.zeros((2,2))], [np.zeros((2,2)), b]]))"
   ]
  },
  {
   "cell_type": "code",
   "execution_count": 33,
   "metadata": {},
   "outputs": [
    {
     "name": "stdout",
     "output_type": "stream",
     "text": [
      "[[0.5+0.j 0. +0.j]\n",
      " [0. +0.j 0.5+0.j]]\n",
      "[[0. 1. 0. 0. 0. 0.]\n",
      " [1. 0. 0. 0. 0. 0.]\n",
      " [0. 0. 0. 1. 0. 0.]\n",
      " [0. 0. 1. 0. 0. 0.]\n",
      " [0. 0. 0. 0. 0. 1.]\n",
      " [0. 0. 0. 0. 1. 0.]]\n"
     ]
    }
   ],
   "source": [
    "iden = np.array([[1, 0], [0, 1]])\n",
    "sigmax = np.array([[0, 1], [1, 0]])\n",
    "sigmay = np.array([[0, -1.0j], [1.0j, 0]])\n",
    "sigmaz = np.array([[1, 0], [0, -1]])\n",
    "\n",
    "mat = np.array([[1/3, 2], [3, 2/3]])\n",
    "print((sigmax @ mat @ sigmax.conj().T + sigmay @ mat @ sigmay.conj().T + sigmaz @ mat @ sigmaz.conj().T + iden @ mat @ iden.conj().T)/4)\n",
    "\n",
    "print(np.kron(np.identity(3), sigmax))"
   ]
  },
  {
   "cell_type": "code",
   "execution_count": 106,
   "metadata": {},
   "outputs": [
    {
     "name": "stdout",
     "output_type": "stream",
     "text": [
      "[[0.99985001+0.j]]\n"
     ]
    }
   ],
   "source": [
    "# A small tree {2}\n",
    "photonDim = 2\n",
    "photonNum = 3\n",
    "errorProb = 0.00001\n",
    "denMat = pulseDyn.densityMatrix(photonNum, errorProb, 10000, 'c')\n",
    "\n",
    "\n",
    "denMat.EGate(1)\n",
    "denMat.EGate(2)\n",
    "denMat.CZGate(2, 1)\n",
    "denMat.CZGate(2, 2)\n",
    "denMat.EGate(3)\n",
    "\n",
    "thisTree = treeState.tree(photonNum, photonDim)\n",
    "thisTree.entangle(1, 3)\n",
    "thisTree.entangle(2, 3)\n",
    "idealTree = thisTree.getStateVec()\n",
    "\n",
    "\n",
    "print(idealTree.conj().T @ denMat.partialTracedRho() @ idealTree)"
   ]
  },
  {
   "cell_type": "code",
   "execution_count": 60,
   "metadata": {},
   "outputs": [
    {
     "name": "stdout",
     "output_type": "stream",
     "text": [
      "[[1 2 3 4]\n",
      " [5 6 7 8]\n",
      " [9 0 1 2]\n",
      " [3 4 5 6]]\n",
      "[[1 2]\n",
      " [5 6]]\n",
      "[[1 2]\n",
      " [5 6]]\n",
      "[[ 2  4]\n",
      " [10 12]]\n"
     ]
    }
   ],
   "source": [
    "testA = np.array([[1,2,3,4],[5,6,7,8],[9,0,1,2],[3,4,5,6]])\n",
    "print(testA)\n",
    "\n",
    "testB = testA[0:2, 0:2]\n",
    "testC = testA[2:4, 2:4]\n",
    "print(testB)\n",
    "print(testC)\n",
    "print(testB + testC)"
   ]
  },
  {
   "cell_type": "code",
   "execution_count": 65,
   "metadata": {},
   "outputs": [
    {
     "name": "stdout",
     "output_type": "stream",
     "text": [
      "[[ 0.35355339+0.j]\n",
      " [ 0.35355339+0.j]\n",
      " [ 0.35355339+0.j]\n",
      " [-0.35355339+0.j]\n",
      " [ 0.35355339+0.j]\n",
      " [-0.35355339+0.j]\n",
      " [ 0.35355339+0.j]\n",
      " [ 0.35355339+0.j]]\n"
     ]
    }
   ],
   "source": [
    "testTree = treeState.tree(3, 2)\n",
    "testTree.entangle(1, 3)\n",
    "testTree.entangle(2, 3)\n",
    "print(testTree.getStateVec())"
   ]
  },
  {
   "cell_type": "code",
   "execution_count": 2,
   "metadata": {},
   "outputs": [
    {
     "data": {
      "text/latex": [
       "Quantum object: dims = [[4], [4]], shape = (4, 4), type = oper, isherm = True\\begin{equation*}\\left(\\begin{array}{*{11}c}0.500 & 0.0 & 0.0 & 0.0\\\\0.0 & 0.500 & 0.0 & 0.0\\\\0.0 & 0.0 & 0.0 & 0.0\\\\0.0 & 0.0 & 0.0 & 0.0\\\\\\end{array}\\right)\\end{equation*}"
      ],
      "text/plain": [
       "Quantum object: dims = [[4], [4]], shape = (4, 4), type = oper, isherm = True\n",
       "Qobj data =\n",
       "[[0.5 0.  0.  0. ]\n",
       " [0.  0.5 0.  0. ]\n",
       " [0.  0.  0.  0. ]\n",
       " [0.  0.  0.  0. ]]"
      ]
     },
     "execution_count": 2,
     "metadata": {},
     "output_type": "execute_result"
    }
   ],
   "source": [
    "qutip.Qobj([[1/2, 0, 0, 0], [0, 1/2, 0, 0], [0, 0, 0, 0], [0, 0, 0, 0]])"
   ]
  },
  {
   "cell_type": "code",
   "execution_count": 56,
   "metadata": {},
   "outputs": [
    {
     "name": "stdout",
     "output_type": "stream",
     "text": [
      "[[1.+0.j]]\n"
     ]
    }
   ],
   "source": [
    "# A small tree {2, 2}\n",
    "photonDim = 2\n",
    "photonNum = 7\n",
    "errorProb = 0.00001\n",
    "denMat1 = pulseDyn.densityMatrix(photonNum, errorProb, 10000, 'n')\n",
    "\n",
    "denMat1.EGate(1)\n",
    "denMat1.EGate(2)\n",
    "denMat1.EGate(3)\n",
    "denMat1.EGate(4)\n",
    "denMat1.CZGate(4, 1)\n",
    "denMat1.CZGate(4, 2)\n",
    "denMat1.EGate(5)\n",
    "denMat1.CZGate(5, 3)\n",
    "denMat1.CZGate(5, 4)\n",
    "denMat1.EGate(6)\n",
    "denMat1.CZGate(6, 5)\n",
    "denMat1.CZGate(6, 6)\n",
    "denMat1.EGate(7)\n",
    "\n",
    "thisTree1 = treeState.tree(photonNum, photonDim)\n",
    "thisTree1.entangle(1, 5)\n",
    "thisTree1.entangle(2, 5)\n",
    "thisTree1.entangle(3, 6)\n",
    "thisTree1.entangle(4, 6)\n",
    "thisTree1.entangle(5, 7)\n",
    "thisTree1.entangle(6, 7)\n",
    "idealTree1 = thisTree1.getStateVec()\n",
    "\n",
    "\n",
    "print(idealTree1.conj().T @ denMat1.partialTracedRho() @ idealTree1)"
   ]
  },
  {
   "cell_type": "code",
   "execution_count": 58,
   "metadata": {},
   "outputs": [
    {
     "ename": "KeyboardInterrupt",
     "evalue": "",
     "output_type": "error",
     "traceback": [
      "\u001b[0;31m---------------------------------------------------------------------------\u001b[0m",
      "\u001b[0;31mKeyboardInterrupt\u001b[0m                         Traceback (most recent call last)",
      "\u001b[0;32m<ipython-input-58-cab6ee41985a>\u001b[0m in \u001b[0;36m<module>\u001b[0;34m\u001b[0m\n\u001b[1;32m     23\u001b[0m \u001b[0mdenMat1\u001b[0m\u001b[0;34m.\u001b[0m\u001b[0mCZGate\u001b[0m\u001b[0;34m(\u001b[0m\u001b[0;36m9\u001b[0m\u001b[0;34m,\u001b[0m \u001b[0;36m8\u001b[0m\u001b[0;34m)\u001b[0m\u001b[0;34m\u001b[0m\u001b[0;34m\u001b[0m\u001b[0m\n\u001b[1;32m     24\u001b[0m \u001b[0mdenMat1\u001b[0m\u001b[0;34m.\u001b[0m\u001b[0mCZGate\u001b[0m\u001b[0;34m(\u001b[0m\u001b[0;36m9\u001b[0m\u001b[0;34m,\u001b[0m \u001b[0;36m9\u001b[0m\u001b[0;34m)\u001b[0m\u001b[0;34m\u001b[0m\u001b[0;34m\u001b[0m\u001b[0m\n\u001b[0;32m---> 25\u001b[0;31m \u001b[0mdenMat1\u001b[0m\u001b[0;34m.\u001b[0m\u001b[0mEGate\u001b[0m\u001b[0;34m(\u001b[0m\u001b[0;36m10\u001b[0m\u001b[0;34m)\u001b[0m\u001b[0;34m\u001b[0m\u001b[0;34m\u001b[0m\u001b[0m\n\u001b[0m\u001b[1;32m     26\u001b[0m \u001b[0;34m\u001b[0m\u001b[0m\n\u001b[1;32m     27\u001b[0m \u001b[0mthisTree1\u001b[0m \u001b[0;34m=\u001b[0m \u001b[0mtreeState\u001b[0m\u001b[0;34m.\u001b[0m\u001b[0mtree\u001b[0m\u001b[0;34m(\u001b[0m\u001b[0mphotonNum\u001b[0m\u001b[0;34m,\u001b[0m \u001b[0mphotonDim\u001b[0m\u001b[0;34m)\u001b[0m\u001b[0;34m\u001b[0m\u001b[0;34m\u001b[0m\u001b[0m\n",
      "\u001b[0;32m~/Desktop/Fidelity of small trees/Code/pulseDyn.py\u001b[0m in \u001b[0;36mEGate\u001b[0;34m(self, photonIndex)\u001b[0m\n\u001b[1;32m    242\u001b[0m                 \u001b[0mself\u001b[0m\u001b[0;34m.\u001b[0m\u001b[0mpi_01\u001b[0m\u001b[0;34m(\u001b[0m\u001b[0mphotonIndex\u001b[0m\u001b[0;34m)\u001b[0m\u001b[0;34m\u001b[0m\u001b[0;34m\u001b[0m\u001b[0m\n\u001b[1;32m    243\u001b[0m                 \u001b[0mself\u001b[0m\u001b[0;34m.\u001b[0m\u001b[0mpi_2e\u001b[0m\u001b[0;34m(\u001b[0m\u001b[0mphotonIndex\u001b[0m\u001b[0;34m)\u001b[0m\u001b[0;34m\u001b[0m\u001b[0;34m\u001b[0m\u001b[0m\n\u001b[0;32m--> 244\u001b[0;31m                 \u001b[0mself\u001b[0m\u001b[0;34m.\u001b[0m\u001b[0memission\u001b[0m\u001b[0;34m(\u001b[0m\u001b[0mphotonIndex\u001b[0m\u001b[0;34m,\u001b[0m \u001b[0;36m1\u001b[0m\u001b[0;34m)\u001b[0m\u001b[0;34m\u001b[0m\u001b[0;34m\u001b[0m\u001b[0m\n\u001b[0m\u001b[1;32m    245\u001b[0m                 \u001b[0mself\u001b[0m\u001b[0;34m.\u001b[0m\u001b[0mhadamard_01\u001b[0m\u001b[0;34m(\u001b[0m\u001b[0mphotonIndex\u001b[0m\u001b[0;34m)\u001b[0m\u001b[0;34m\u001b[0m\u001b[0;34m\u001b[0m\u001b[0m\n\u001b[1;32m    246\u001b[0m \u001b[0;34m\u001b[0m\u001b[0m\n",
      "\u001b[0;32m~/Desktop/Fidelity of small trees/Code/pulseDyn.py\u001b[0m in \u001b[0;36memission\u001b[0;34m(self, photonIndex, timeBin)\u001b[0m\n\u001b[1;32m    173\u001b[0m                         \u001b[0midenFormer\u001b[0m \u001b[0;34m=\u001b[0m \u001b[0mnp\u001b[0m\u001b[0;34m.\u001b[0m\u001b[0midentity\u001b[0m\u001b[0;34m(\u001b[0m\u001b[0mself\u001b[0m\u001b[0;34m.\u001b[0m\u001b[0m_atomDim\u001b[0m\u001b[0;34m*\u001b[0m\u001b[0;36m2\u001b[0m\u001b[0;34m**\u001b[0m\u001b[0;34m(\u001b[0m\u001b[0mphotonIndex\u001b[0m \u001b[0;34m-\u001b[0m \u001b[0;36m1\u001b[0m\u001b[0;34m)\u001b[0m\u001b[0;34m,\u001b[0m \u001b[0mdtype\u001b[0m\u001b[0;34m=\u001b[0m\u001b[0mcomplex\u001b[0m\u001b[0;34m)\u001b[0m\u001b[0;34m\u001b[0m\u001b[0;34m\u001b[0m\u001b[0m\n\u001b[1;32m    174\u001b[0m                         \u001b[0mtransMat\u001b[0m \u001b[0;34m=\u001b[0m \u001b[0mnp\u001b[0m\u001b[0;34m.\u001b[0m\u001b[0mkron\u001b[0m\u001b[0;34m(\u001b[0m\u001b[0midenFormer\u001b[0m\u001b[0;34m,\u001b[0m \u001b[0mself\u001b[0m\u001b[0;34m.\u001b[0m\u001b[0m_transBlock\u001b[0m\u001b[0;34m)\u001b[0m\u001b[0;34m\u001b[0m\u001b[0;34m\u001b[0m\u001b[0m\n\u001b[0;32m--> 175\u001b[0;31m                         \u001b[0mself\u001b[0m\u001b[0;34m.\u001b[0m\u001b[0m_rho\u001b[0m \u001b[0;34m=\u001b[0m \u001b[0mtransMat\u001b[0m \u001b[0;34m@\u001b[0m \u001b[0mself\u001b[0m\u001b[0;34m.\u001b[0m\u001b[0m_rho\u001b[0m \u001b[0;34m@\u001b[0m \u001b[0mtransMat\u001b[0m\u001b[0;34m.\u001b[0m\u001b[0mconj\u001b[0m\u001b[0;34m(\u001b[0m\u001b[0;34m)\u001b[0m\u001b[0;34m.\u001b[0m\u001b[0mT\u001b[0m\u001b[0;34m\u001b[0m\u001b[0;34m\u001b[0m\u001b[0m\n\u001b[0m\u001b[1;32m    176\u001b[0m \u001b[0;34m\u001b[0m\u001b[0m\n\u001b[1;32m    177\u001b[0m \u001b[0;34m\u001b[0m\u001b[0m\n",
      "\u001b[0;31mKeyboardInterrupt\u001b[0m: "
     ]
    }
   ],
   "source": [
    "# A small tree {3, 2}\n",
    "photonDim = 2\n",
    "photonNum = 10\n",
    "errorProb = 0.00001\n",
    "denMat1 = pulseDyn.densityMatrix(photonNum, errorProb, 10000, 'n')\n",
    "\n",
    "denMat1.EGate(1)\n",
    "denMat1.EGate(2)\n",
    "denMat1.EGate(3)\n",
    "denMat1.EGate(4)\n",
    "denMat1.EGate(5)\n",
    "denMat1.EGate(6)\n",
    "denMat1.CZGate(6, 1)\n",
    "denMat1.CZGate(6, 2)\n",
    "denMat1.EGate(7)\n",
    "denMat1.CZGate(7, 3)\n",
    "denMat1.CZGate(7, 4)\n",
    "denMat1.EGate(8)\n",
    "denMat1.CZGate(8, 5)\n",
    "denMat1.CZGate(8, 6)\n",
    "denMat1.EGate(9)\n",
    "denMat1.CZGate(9, 7)\n",
    "denMat1.CZGate(9, 8)\n",
    "denMat1.CZGate(9, 9)\n",
    "denMat1.EGate(10)\n",
    "\n",
    "thisTree1 = treeState.tree(photonNum, photonDim)\n",
    "thisTree1.entangle(1, 7)\n",
    "thisTree1.entangle(2, 7)\n",
    "thisTree1.entangle(3, 8)\n",
    "thisTree1.entangle(4, 8)\n",
    "thisTree1.entangle(5, 9)\n",
    "thisTree1.entangle(6, 9)\n",
    "thisTree1.entangle(7, 10)\n",
    "thisTree1.entangle(8, 10)\n",
    "thisTree1.entangle(9, 10)\n",
    "idealTree1 = thisTree1.getStateVec()\n",
    "\n",
    "\n",
    "print(idealTree1.conj().T @ denMat1.partialTracedRho() @ idealTree1)"
   ]
  },
  {
   "cell_type": "code",
   "execution_count": 110,
   "metadata": {},
   "outputs": [
    {
     "name": "stdout",
     "output_type": "stream",
     "text": [
      "[[1.+0.j]]\n"
     ]
    }
   ],
   "source": [
    "# A small tree {2, 3}\n",
    "photonDim = 2\n",
    "photonNum = 9\n",
    "errorProb = 0.00001\n",
    "denMat1 = pulseQuTip.densityMatrix(photonNum, errorProb, 10000, 'n')\n",
    "\n",
    "denMat1.EGate(1)\n",
    "denMat1.EGate(2)\n",
    "denMat1.EGate(3)\n",
    "denMat1.EGate(4)\n",
    "denMat1.EGate(5)\n",
    "denMat1.EGate(6)\n",
    "denMat1.CZGate(6, 1)\n",
    "denMat1.CZGate(6, 2)\n",
    "denMat1.CZGate(6, 3)\n",
    "denMat1.EGate(7)\n",
    "denMat1.CZGate(7, 4)\n",
    "denMat1.CZGate(7, 5)\n",
    "denMat1.CZGate(7, 6)\n",
    "denMat1.EGate(8)\n",
    "denMat1.CZGate(8, 7)\n",
    "denMat1.CZGate(8, 8)\n",
    "denMat1.EGate(9)\n",
    "\n",
    "thisTree1 = treeState.tree(photonNum, photonDim)\n",
    "thisTree1.entangle(1, 7)\n",
    "thisTree1.entangle(2, 7)\n",
    "thisTree1.entangle(3, 7)\n",
    "thisTree1.entangle(4, 8)\n",
    "thisTree1.entangle(5, 8)\n",
    "thisTree1.entangle(6, 8)\n",
    "thisTree1.entangle(7, 9)\n",
    "thisTree1.entangle(8, 9)\n",
    "idealTree1 = thisTree1.getStateVec()\n",
    "\n",
    "\n",
    "print(idealTree1.conj().T @ denMat1.partialTracedRho() @ idealTree1)"
   ]
  },
  {
   "cell_type": "code",
   "execution_count": 73,
   "metadata": {},
   "outputs": [
    {
     "name": "stdout",
     "output_type": "stream",
     "text": [
      "[[1.+0.j 0.+0.j 0.+0.j 0.+0.j]\n",
      " [0.+0.j 0.+0.j 0.+0.j 0.+0.j]\n",
      " [0.+0.j 0.+0.j 0.+0.j 0.+0.j]\n",
      " [0.+0.j 0.+0.j 0.+0.j 0.+0.j]]\n"
     ]
    }
   ],
   "source": [
    "a1 = qutip.basis(4, 0)\n",
    "p1 = qutip.basis(2, 1)\n",
    "\n",
    "ap = qutip.tensor(a1, p1)\n",
    "\n",
    "app = ap.ptrace(0)\n",
    "print(app.full())"
   ]
  },
  {
   "cell_type": "code",
   "execution_count": 107,
   "metadata": {},
   "outputs": [
    {
     "name": "stdout",
     "output_type": "stream",
     "text": [
      "[[0.99985001+0.j]]\n"
     ]
    }
   ],
   "source": [
    "# A small tree {2}\n",
    "photonDim = 2\n",
    "photonNum = 3\n",
    "errorProb = 0.00001\n",
    "denMat = pulseQuTip.densityMatrix(photonNum, errorProb, 10000, 'c')\n",
    "\n",
    "\n",
    "denMat.EGate(1)\n",
    "denMat.EGate(2)\n",
    "denMat.CZGate(2, 1)\n",
    "denMat.CZGate(2, 2)\n",
    "denMat.EGate(3)\n",
    "\n",
    "thisTree = treeState.tree(photonNum, photonDim)\n",
    "thisTree.entangle(1, 3)\n",
    "thisTree.entangle(2, 3)\n",
    "idealTree = thisTree.getStateVec()\n",
    "\n",
    "\n",
    "print(idealTree.conj().T @ denMat.partialTracedRho() @ idealTree)"
   ]
  },
  {
   "cell_type": "code",
   "execution_count": 137,
   "metadata": {},
   "outputs": [
    {
     "data": {
      "image/png": "[encoded data removed]",
      "text/plain": [
       "<Figure size 432x273.6 with 1 Axes>"
      ]
     },
     "metadata": {
      "needs_background": "light"
     },
     "output_type": "display_data"
    }
   ],
   "source": [
    "# cooperativity\n",
    "Cooperativity = 10**np.linspace(0.5, 3, 100)\n",
    "FidelityE = Cooperativity/(Cooperativity + 1)\n",
    "FidelityCZ = ((Cooperativity - 1)/(Cooperativity + 1))**2\n",
    "\n",
    "LossRate = 1 - FidelityE*FidelityCZ\n",
    "\n",
    "plt.figure(figsize=(6,3.8))\n",
    "plt.plot(LossRate, Cooperativity, linewidth=2.5)\n",
    "plt.xscale(\"log\")\n",
    "plt.yscale(\"log\")\n",
    "plt.xlabel(\"Internal photon loss probability\")\n",
    "plt.ylabel(\"Threshold cooperativity\")\n",
    "plt.tight_layout()\n",
    "plt.savefig(\"s3.pdf\")"
   ]
  },
  {
   "cell_type": "code",
   "execution_count": 147,
   "metadata": {},
   "outputs": [],
   "source": [
    "epsilon = 10**np.linspace(-6, -2, 101)\n",
    "\n",
    "epsilonX1 = []\n",
    "epsilonZ1 = []\n",
    "epsilonArb1 = []\n",
    "epsilonMax1 = []\n",
    "epsilonX2 = []\n",
    "epsilonZ2 = []\n",
    "epsilonArb2 = []\n",
    "epsilonMax2 = []\n",
    "epsilonX3 = []\n",
    "epsilonZ3 = []\n",
    "epsilonArb3 = []\n",
    "epsilonMax3 = []\n",
    "\n",
    "\n",
    "openX1 = open(\"FigS3(b)_222_X.txt\", 'r')\n",
    "openX1Data = openX1.read().split()\n",
    "openZ1 = open(\"FigS3(b)_222_Z.txt\", 'r')\n",
    "openZ1Data = openZ1.read().split()\n",
    "openArb1 = open(\"FigS3(b)_222_arb.txt\", 'r')\n",
    "openArb1Data = openArb1.read().split()\n",
    "\n",
    "openX2 = open(\"FigS3(b)_353_X.txt\", 'r')\n",
    "openX2Data = openX2.read().split()\n",
    "openZ2 = open(\"FigS3(b)_353_Z.txt\", 'r')\n",
    "openZ2Data = openZ2.read().split()\n",
    "openArb2 = open(\"FigS3(b)_353_arb.txt\", 'r')\n",
    "openArb2Data = openArb2.read().split()\n",
    "\n",
    "openX3 = open(\"FigS3(b)_61091_X.txt\", 'r')\n",
    "openX3Data = openX3.read().split()\n",
    "openZ3 = open(\"FigS3(b)_61091_Z.txt\", 'r')\n",
    "openZ3Data = openZ3.read().split()\n",
    "openArb3 = open(\"FigS3(b)_61091_arb.txt\", 'r')\n",
    "openArb3Data = openArb3.read().split()\n",
    "\n",
    "\n",
    "for ii in range(np.size(openX1Data)):\n",
    "    epsilonX1.append(float(openX1Data[ii]))\n",
    "    epsilonZ1.append(float(openZ1Data[ii]))\n",
    "    epsilonArb1.append(float(openArb1Data[ii]))\n",
    "    epsilonMax1.append(max(float(openX1Data[ii]), float(openZ1Data[ii]), float(openArb1Data[ii])))\n",
    "    \n",
    "    epsilonX2.append(float(openX2Data[ii]))\n",
    "    epsilonZ2.append(float(openZ2Data[ii]))\n",
    "    epsilonArb2.append(float(openArb2Data[ii]))\n",
    "    epsilonMax2.append(max(float(openX2Data[ii]), float(openZ2Data[ii]), float(openArb2Data[ii])))\n",
    "    \n",
    "    epsilonX3.append(float(openX3Data[ii]))\n",
    "    epsilonZ3.append(float(openZ3Data[ii]))\n",
    "    epsilonArb3.append(float(openArb3Data[ii]))\n",
    "    epsilonMax3.append(max(float(openX3Data[ii]), float(openZ3Data[ii]), float(openArb3Data[ii])))\n",
    "    \n"
   ]
  },
  {
   "cell_type": "code",
   "execution_count": 166,
   "metadata": {},
   "outputs": [
    {
     "data": {
      "image/png": "[encoded data removed]",
      "text/plain": [
       "<Figure size 381.6x288 with 1 Axes>"
      ]
     },
     "metadata": {
      "needs_background": "light"
     },
     "output_type": "display_data"
    }
   ],
   "source": [
    "plt.figure(figsize=(5.3,4))\n",
    "plt.plot(epsilon, epsilonMax1, linewidth=2.5, label=\"{2,2,2}\")\n",
    "plt.plot(epsilon, epsilonMax2, linewidth=2.5, label=\"{3,5,3}\")\n",
    "plt.plot(epsilon, epsilonMax3, linewidth=2.5, label=\"{6,10,9,1}\")\n",
    "plt.xscale(\"log\")\n",
    "plt.yscale(\"log\")\n",
    "plt.xticks([10**(-6), 10**(-4), 10**(-2)])\n",
    "plt.yticks([10**(-6), 10**(-4), 10**(-2)])\n",
    "plt.ylim(10**(-6), 10**(-1))\n",
    "plt.xlabel(\"$\\\\mu$\")\n",
    "plt.ylabel(\"$\\\\varepsilon_{logic}$\")\n",
    "plt.legend(fontsize=14, loc=4)\n",
    "plt.tight_layout()\n",
    "# plt.savefig(\"s4.pdf\")"
   ]
  },
  {
   "cell_type": "code",
   "execution_count": 169,
   "metadata": {},
   "outputs": [
    {
     "data": {
      "text/plain": [
       "[5.1704e-06,\n",
       " 5.66923e-06,\n",
       " 6.2162e-06,\n",
       " 6.81593e-06,\n",
       " 7.47353e-06,\n",
       " 8.19457e-06,\n",
       " 8.98517e-06,\n",
       " 9.85206e-06,\n",
       " 1.08026e-05,\n",
       " 1.18448e-05,\n",
       " 1.29876e-05,\n",
       " 1.42406e-05,\n",
       " 1.56146e-05,\n",
       " 1.71211e-05,\n",
       " 1.8773e-05,\n",
       " 2.05842e-05,\n",
       " 2.25702e-05,\n",
       " 2.47478e-05,\n",
       " 2.71355e-05,\n",
       " 2.97536e-05,\n",
       " 3.26243e-05,\n",
       " 3.5772e-05,\n",
       " 3.92234e-05,\n",
       " 4.30078e-05,\n",
       " 4.71574e-05,\n",
       " 5.17074e-05,\n",
       " 5.66965e-05,\n",
       " 6.2167e-05,\n",
       " 6.81653e-05,\n",
       " 7.47425e-05,\n",
       " 8.19543e-05,\n",
       " 8.98622e-05,\n",
       " 9.85331e-05,\n",
       " 0.000108041,\n",
       " 0.000118466,\n",
       " 0.000129898,\n",
       " 0.000142433,\n",
       " 0.000156177,\n",
       " 0.000171249,\n",
       " 0.000187775,\n",
       " 0.000205897,\n",
       " 0.000225768,\n",
       " 0.000247557,\n",
       " 0.00027145,\n",
       " 0.000297651,\n",
       " 0.000326381,\n",
       " 0.000357886,\n",
       " 0.000392434,\n",
       " 0.000430319,\n",
       " 0.000471864,\n",
       " 0.000517423,\n",
       " 0.000567384,\n",
       " 0.000622174,\n",
       " 0.00068226,\n",
       " 0.000748155,\n",
       " 0.000820423,\n",
       " 0.000899681,\n",
       " 0.000986607,\n",
       " 0.00108195,\n",
       " 0.00118651,\n",
       " 0.00130121,\n",
       " 0.00142701,\n",
       " 0.00156501,\n",
       " 0.0017164,\n",
       " 0.00188246,\n",
       " 0.00206465,\n",
       " 0.00226454,\n",
       " 0.00248385,\n",
       " 0.0027245,\n",
       " 0.00298859,\n",
       " 0.00327841,\n",
       " 0.00359651,\n",
       " 0.00394569,\n",
       " 0.00432904,\n",
       " 0.00474994,\n",
       " 0.00521216,\n",
       " 0.00571984,\n",
       " 0.00627756,\n",
       " 0.00689039,\n",
       " 0.00756395,\n",
       " 0.00830445,\n",
       " 0.00911882,\n",
       " 0.0100147,\n",
       " 0.0110008,\n",
       " 0.0120865,\n",
       " 0.0132827,\n",
       " 0.0146012,\n",
       " 0.0160556,\n",
       " 0.017661,\n",
       " 0.0194347,\n",
       " 0.0213961,\n",
       " 0.0235672,\n",
       " 0.0259733,\n",
       " 0.0286432,\n",
       " 0.0316099,\n",
       " 0.0349111,\n",
       " 0.0385906,\n",
       " 0.0426984,\n",
       " 0.0472923,\n",
       " 0.0524387,\n",
       " 0.0582138]"
      ]
     },
     "execution_count": 169,
     "metadata": {},
     "output_type": "execute_result"
    }
   ],
   "source": [
    "epsilonMax3"
   ]
  },
  {
   "cell_type": "code",
   "execution_count": null,
   "metadata": {},
   "outputs": [],
   "source": []
  }
 ],
 "metadata": {
  "kernelspec": {
   "display_name": "Python 3",
   "language": "python",
   "name": "python3"
  },
  "language_info": {
   "codemirror_mode": {
    "name": "ipython",
    "version": 3
   },
   "file_extension": ".py",
   "mimetype": "text/x-python",
   "name": "python",
   "nbconvert_exporter": "python",
   "pygments_lexer": "ipython3",
   "version": "3.8.3"
  }
 },
 "nbformat": 4,
 "nbformat_minor": 4
}
